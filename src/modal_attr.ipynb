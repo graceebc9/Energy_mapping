{
 "cells": [
  {
   "cell_type": "code",
   "execution_count": 1,
   "metadata": {},
   "outputs": [],
   "source": [
    "import os\n",
    "import sys\n",
    "import time\n",
    "import geopandas as gpd \n",
    "import pandas as pd \n",
    "import glob \n",
    "import re\n",
    "import matplotlib.pyplot as plt \n",
    "from shapely.geometry import Point, Polygon\n",
    "from shapely.geometry import box\n",
    "sys.path.append('/Users/gracecolverd/New_dataset')\n",
    "\n",
    "from src import find_postcode_for_ONSUD_file, find_data_pc, calculate_modal_age_band, process_data_improved"
   ]
  },
  {
   "cell_type": "code",
   "execution_count": 2,
   "metadata": {},
   "outputs": [
    {
     "name": "stdout",
     "output_type": "stream",
     "text": [
      "Len of missing rows  0\n"
     ]
    }
   ],
   "source": [
    "pc_df ,data = find_postcode_for_ONSUD_file('/Volumes/T9/Data_downloads/ONS_UPRN_database/ONSUD_DEC_2022/Data/ONSUD_DEC_2022_EE.csv' )\n"
   ]
  },
  {
   "cell_type": "code",
   "execution_count": 3,
   "metadata": {},
   "outputs": [
    {
     "name": "stdout",
     "output_type": "stream",
     "text": [
      "Starting new process\n",
      "More than 10% of the data is missing premise age\n",
      "More than 10% of the data is missing premise age\n",
      "More than 10% of the data is missing premise age\n",
      "More than 10% of the data is missing premise age\n",
      "More than 10% of the data is missing premise age\n",
      "More than 10% of the data is missing premise age\n",
      "More than 10% of the data is missing premise age\n",
      "More than 10% of the data is missing premise age\n"
     ]
    }
   ],
   "source": [
    "results_df = process_data_improved( data, 'modal_age_band', calculate_modal_age_band  ) "
   ]
  },
  {
   "cell_type": "code",
   "execution_count": null,
   "metadata": {},
   "outputs": [],
   "source": []
  }
 ],
 "metadata": {
  "kernelspec": {
   "display_name": "gdal_3",
   "language": "python",
   "name": "python3"
  },
  "language_info": {
   "codemirror_mode": {
    "name": "ipython",
    "version": 3
   },
   "file_extension": ".py",
   "mimetype": "text/x-python",
   "name": "python",
   "nbconvert_exporter": "python",
   "pygments_lexer": "ipython3",
   "version": "3.11.0"
  }
 },
 "nbformat": 4,
 "nbformat_minor": 2
}
