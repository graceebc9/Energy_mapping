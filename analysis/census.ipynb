{
 "cells": [
  {
   "cell_type": "code",
   "execution_count": null,
   "metadata": {},
   "outputs": [],
   "source": [
    "# notebook to generate census attributres in percentages "
   ]
  },
  {
   "cell_type": "code",
   "execution_count": 1,
   "metadata": {},
   "outputs": [],
   "source": [
    "import os \n",
    "import pandas as pd \n",
    "import glob \n",
    "import numpy as np   \n",
    "import sys\n",
    "sys.path.append('/Users/gracecolverd/New_dataset') \n",
    "\n",
    "from src.utils import * "
   ]
  },
  {
   "cell_type": "code",
   "execution_count": 9,
   "metadata": {},
   "outputs": [],
   "source": [
    "def create_simple_census_perc(df, code_col, val_col, attr):\n",
    "    total_households  = pd.pivot_table(df, index = 'Output Areas Code', values = 'Observation', aggfunc='sum') \n",
    "    h = pd.pivot_table(df, index = 'Output Areas Code', values = 'Observation', columns = code_col, aggfunc='sum') \n",
    "    perc_df = h.join(total_households)\n",
    "    \n",
    "    mapping_dict = {key: value for key, value in zip(df[code_col], df[val_col])}\n",
    "\n",
    "    for k ,v in mapping_dict.items():\n",
    "        perc_df[f'{attr}_perc_{v}'] = perc_df[k] / perc_df['Observation']\n",
    "\n",
    "    column_sum = perc_df[[f'{attr}_perc_{v}' for v in mapping_dict.values() ]].sum(axis=1)\n",
    "    is_sum_equal_to_1 = np.isclose(column_sum, 1)\n",
    "    if len (perc_df[~is_sum_equal_to_1]) != 0:\n",
    "        raise ValueError('The conversion to percentages has failed.' ) \n",
    "\n",
    "    \n",
    "    perc_df[[f'{attr}_perc_{v}' for v in mapping_dict.values() ]].reset_index().to_csv(f'/Users/gracecolverd/New_dataset/data/census_attrs/{attr}.csv', index = False)\n",
    "    print('attr saved, len ', len(perc_df))\n",
    "    \n",
    "\n",
    "def create_complex_census_attr(df, code_col, val_col, code_col2, val_col2, attr):\n",
    "    mapping_dict = {key: value for key, value in zip(df[code_col], df[val_col])}\n",
    "    mapping_dict2 = {key: value for key, value in zip(df[code_col2], df[val_col2])}\n",
    "\n",
    "    total_households = pd.pivot_table(df, index = 'Output Areas Code', values = 'Observation', aggfunc='sum')\n",
    "    h = pd.pivot_table(df, index = 'Output Areas Code', values = 'Observation', columns = [code_col, code_col2], aggfunc='sum')\n",
    "    perc_df = h.join(total_households)\n",
    "    \n",
    "\n",
    "    for k ,v in mapping_dict.items():\n",
    "        for k2, v2 in mapping_dict2.items():\n",
    "            perc_df[f'{attr}_perc_{v}_{v2}'] = perc_df[k, k2] / perc_df['Observation']\n",
    "    \n",
    "    column_sum = perc_df[[f'{attr}_perc_{v}_{v2}' for v in mapping_dict.values() for v2 in mapping_dict2.values() ]].sum(axis=1)\n",
    "    is_sum_equal_to_1 = np.isclose(column_sum, 1)\n",
    "    if len (perc_df[~is_sum_equal_to_1]) != 0:\n",
    "        raise ValueError('The conversion to percentages has failed.' ) \n",
    "\n",
    "    perc_df[[f'{attr}_perc_{v}_{v2}' for v in mapping_dict.values() for v2 in mapping_dict2.values() ]].reset_index().to_csv(f'/Users/gracecolverd/New_dataset/data/census_attrs/{attr}.csv', index = False)\n",
    "    print('attr saved, len ', len(perc_df))"
   ]
  },
  {
   "cell_type": "code",
   "execution_count": 3,
   "metadata": {},
   "outputs": [
    {
     "name": "stderr",
     "output_type": "stream",
     "text": [
      "/var/folders/n5/_2d3c5sd5j3810327mknn0sh0000gn/T/ipykernel_48157/1841741371.py:1: DtypeWarning: Columns (13) have mixed types. Specify dtype option on import or set low_memory=False.\n",
      "  lookup = pd.read_csv('/Volumes/T9/Data_downloads/lookups/pcs_to_oa_mapping_census2021/PCD_OA_LSOA_MSOA_LAD_MAY22_UK_LU.csv', encoding='latin1')\n"
     ]
    }
   ],
   "source": [
    "lookup = pd.read_csv('/Volumes/T9/Data_downloads/lookups/pcs_to_oa_mapping_census2021/PCD_OA_LSOA_MSOA_LAD_MAY22_UK_LU.csv', encoding='latin1')"
   ]
  },
  {
   "cell_type": "code",
   "execution_count": 4,
   "metadata": {},
   "outputs": [
    {
     "ename": "NameError",
     "evalue": "name 'res' is not defined",
     "output_type": "error",
     "traceback": [
      "\u001b[0;31m---------------------------------------------------------------------------\u001b[0m",
      "\u001b[0;31mNameError\u001b[0m                                 Traceback (most recent call last)",
      "Cell \u001b[0;32mIn[4], line 1\u001b[0m\n\u001b[0;32m----> 1\u001b[0m res_lk \u001b[38;5;241m=\u001b[39m join_pc_map_three_pc(\u001b[43mres\u001b[49m, \u001b[38;5;124m'\u001b[39m\u001b[38;5;124mPostcode\u001b[39m\u001b[38;5;124m'\u001b[39m,  lookup  )\n",
      "\u001b[0;31mNameError\u001b[0m: name 'res' is not defined"
     ]
    }
   ],
   "source": [
    "res_lk = join_pc_map_three_pc(res, 'Postcode',  lookup  )"
   ]
  },
  {
   "cell_type": "code",
   "execution_count": 25,
   "metadata": {},
   "outputs": [],
   "source": [
    "res_lk_oa = res_lk.merge(df, left_on='oa11cd', right_on='Output Areas Code', how = 'left'     )"
   ]
  },
  {
   "cell_type": "code",
   "execution_count": 10,
   "metadata": {},
   "outputs": [],
   "source": [
    "hh_size = pd.pivot_table(df, index = 'Output Areas Code', values = 'Observation', columns = 'Household size (9 categories) Code', aggfunc='sum') "
   ]
  },
  {
   "cell_type": "code",
   "execution_count": 6,
   "metadata": {},
   "outputs": [],
   "source": [
    "# household size average attribute \n",
    "import pandas as pd\n",
    "import numpy as np\n",
    " \n",
    "# load household size census attr  - code is 0-8 for corresponding number of people (includes 8+ as 8) \n",
    "df = pd.read_csv('/Volumes/T9/Data_downloads/census_2021/household_size/TS017-2021-3-filtered-2024-03-04T16_36_34Z.csv') \n",
    "\n",
    "total_households  = pd.pivot_table(df, index = 'Output Areas Code', values = 'Observation', aggfunc='sum') \n",
    "hh_size = pd.pivot_table(df, index = 'Output Areas Code', values = 'Observation', columns = 'Household size (9 categories) Code', aggfunc='sum') \n",
    "perc_df = hh_size.join(total_households)\n",
    "\n",
    "perc_df['perc_1'] = perc_df[1] / perc_df['Observation']    \n",
    "perc_df['perc_2'] = perc_df[2] / perc_df['Observation']\n",
    "perc_df['perc_3'] = perc_df[3] / perc_df['Observation']\n",
    "perc_df['perc_4'] = perc_df[4] / perc_df['Observation']\n",
    "perc_df['perc_5'] = perc_df[5] / perc_df['Observation']\n",
    "perc_df['perc_6'] = perc_df[6] / perc_df['Observation']\n",
    "perc_df['perc_7'] = perc_df[7] / perc_df['Observation']\n",
    "perc_df['perc_8'] = perc_df[8] / perc_df['Observation']\n",
    "\n",
    "# Calculate the sum of the columns perc_1 to perc_8\n",
    "column_sum = perc_df[['perc_1', 'perc_2', 'perc_3', 'perc_4', 'perc_5', 'perc_6', 'perc_7', 'perc_8']].sum(axis=1)\n",
    "\n",
    "# Check if the sum is equal to 1 for each row\n",
    "is_sum_equal_to_1 = np.isclose(column_sum, 1)\n",
    "\n",
    "# Print the rows where the sum is not equal to 1\n",
    "if len (perc_df[~is_sum_equal_to_1]) != 0:\n",
    "    raise ValueError('The conversion to percentages has failed.' ) \n",
    "\n",
    "\n",
    "\n",
    "def calculate_average_household_size(row):\n",
    "    \"\"\"\n",
    "    Calculate the weighted average household size for a given row.\n",
    "    \n",
    "    Parameters:\n",
    "    - row: pandas Series, a row from the DataFrame containing percentages.\n",
    "    \n",
    "    Returns:\n",
    "    - weighted_average: float, the weighted average household size for the row.\n",
    "    \"\"\"\n",
    "    household_sizes = range(1, 9)  # Assuming household sizes from 1 to 8\n",
    "    total_weighted_size = 0\n",
    "    total_sum = 0\n",
    "    \n",
    "    for size in household_sizes:\n",
    "        num_obs = row[size]\n",
    "        total_sum += num_obs * size \n",
    "    total_obs = row['Observation']\n",
    "       \n",
    "    weighted_average = total_sum / total_obs\n",
    "    return weighted_average\n",
    "\n",
    "\n",
    "df = pd.DataFrame(perc_df)\n",
    "\n",
    "# Applying the calculation to each row\n",
    "df['Average Household Size'] = df.apply(calculate_average_household_size, axis=1)\n",
    "\n",
    "# To view the result\n",
    "# print(df[['Output Area Codes', 'Weighted Average Household Size']])\n",
    "\n",
    "df.reset_index()[['Output Areas Code' ,  'Average Household Size'   ]].to_csv('/Users/gracecolverd/New_dataset/data/census_attrs/household_size.csv', index = False)"
   ]
  },
  {
   "cell_type": "code",
   "execution_count": 7,
   "metadata": {},
   "outputs": [
    {
     "ename": "KeyError",
     "evalue": "'Household deprivation (6 categories) Code'",
     "output_type": "error",
     "traceback": [
      "\u001b[0;31m---------------------------------------------------------------------------\u001b[0m",
      "\u001b[0;31mKeyError\u001b[0m                                  Traceback (most recent call last)",
      "File \u001b[0;32m~/miniconda3/envs/gdal_3/lib/python3.11/site-packages/pandas/core/indexes/base.py:3803\u001b[0m, in \u001b[0;36mIndex.get_loc\u001b[0;34m(self, key, method, tolerance)\u001b[0m\n\u001b[1;32m   3802\u001b[0m \u001b[38;5;28;01mtry\u001b[39;00m:\n\u001b[0;32m-> 3803\u001b[0m     \u001b[38;5;28;01mreturn\u001b[39;00m \u001b[38;5;28;43mself\u001b[39;49m\u001b[38;5;241;43m.\u001b[39;49m\u001b[43m_engine\u001b[49m\u001b[38;5;241;43m.\u001b[39;49m\u001b[43mget_loc\u001b[49m\u001b[43m(\u001b[49m\u001b[43mcasted_key\u001b[49m\u001b[43m)\u001b[49m\n\u001b[1;32m   3804\u001b[0m \u001b[38;5;28;01mexcept\u001b[39;00m \u001b[38;5;167;01mKeyError\u001b[39;00m \u001b[38;5;28;01mas\u001b[39;00m err:\n",
      "File \u001b[0;32m~/miniconda3/envs/gdal_3/lib/python3.11/site-packages/pandas/_libs/index.pyx:138\u001b[0m, in \u001b[0;36mpandas._libs.index.IndexEngine.get_loc\u001b[0;34m()\u001b[0m\n",
      "File \u001b[0;32m~/miniconda3/envs/gdal_3/lib/python3.11/site-packages/pandas/_libs/index.pyx:165\u001b[0m, in \u001b[0;36mpandas._libs.index.IndexEngine.get_loc\u001b[0;34m()\u001b[0m\n",
      "File \u001b[0;32mpandas/_libs/hashtable_class_helper.pxi:5745\u001b[0m, in \u001b[0;36mpandas._libs.hashtable.PyObjectHashTable.get_item\u001b[0;34m()\u001b[0m\n",
      "File \u001b[0;32mpandas/_libs/hashtable_class_helper.pxi:5753\u001b[0m, in \u001b[0;36mpandas._libs.hashtable.PyObjectHashTable.get_item\u001b[0;34m()\u001b[0m\n",
      "\u001b[0;31mKeyError\u001b[0m: 'Household deprivation (6 categories) Code'",
      "\nThe above exception was the direct cause of the following exception:\n",
      "\u001b[0;31mKeyError\u001b[0m                                  Traceback (most recent call last)",
      "Cell \u001b[0;32mIn[7], line 2\u001b[0m\n\u001b[1;32m      1\u001b[0m \u001b[38;5;66;03m# create percentage of households with diff deprivations per output area \u001b[39;00m\n\u001b[0;32m----> 2\u001b[0m df[\u001b[38;5;124m'\u001b[39m\u001b[38;5;124mupd_indx\u001b[39m\u001b[38;5;124m'\u001b[39m] \u001b[38;5;241m=\u001b[39m \u001b[43mdf\u001b[49m\u001b[43m[\u001b[49m\u001b[38;5;124;43m'\u001b[39;49m\u001b[38;5;124;43mHousehold deprivation (6 categories) Code\u001b[39;49m\u001b[38;5;124;43m'\u001b[39;49m\u001b[43m]\u001b[49m\u001b[38;5;241m.\u001b[39mastype(\u001b[38;5;28mint\u001b[39m) \u001b[38;5;241m-\u001b[39m \u001b[38;5;241m1\u001b[39m \n\u001b[1;32m      4\u001b[0m total_households  \u001b[38;5;241m=\u001b[39m pd\u001b[38;5;241m.\u001b[39mpivot_table(df, index \u001b[38;5;241m=\u001b[39m \u001b[38;5;124m'\u001b[39m\u001b[38;5;124mOutput Areas Code\u001b[39m\u001b[38;5;124m'\u001b[39m, values \u001b[38;5;241m=\u001b[39m \u001b[38;5;124m'\u001b[39m\u001b[38;5;124mObservation\u001b[39m\u001b[38;5;124m'\u001b[39m, aggfunc\u001b[38;5;241m=\u001b[39m\u001b[38;5;124m'\u001b[39m\u001b[38;5;124msum\u001b[39m\u001b[38;5;124m'\u001b[39m) \n\u001b[1;32m      6\u001b[0m h_depr \u001b[38;5;241m=\u001b[39m pd\u001b[38;5;241m.\u001b[39mpivot_table(df, index \u001b[38;5;241m=\u001b[39m \u001b[38;5;124m'\u001b[39m\u001b[38;5;124mOutput Areas Code\u001b[39m\u001b[38;5;124m'\u001b[39m, values \u001b[38;5;241m=\u001b[39m \u001b[38;5;124m'\u001b[39m\u001b[38;5;124mObservation\u001b[39m\u001b[38;5;124m'\u001b[39m, columns \u001b[38;5;241m=\u001b[39m \u001b[38;5;124m'\u001b[39m\u001b[38;5;124mupd_indx\u001b[39m\u001b[38;5;124m'\u001b[39m, aggfunc\u001b[38;5;241m=\u001b[39m\u001b[38;5;124m'\u001b[39m\u001b[38;5;124msum\u001b[39m\u001b[38;5;124m'\u001b[39m) \n",
      "File \u001b[0;32m~/miniconda3/envs/gdal_3/lib/python3.11/site-packages/pandas/core/frame.py:3805\u001b[0m, in \u001b[0;36mDataFrame.__getitem__\u001b[0;34m(self, key)\u001b[0m\n\u001b[1;32m   3803\u001b[0m \u001b[38;5;28;01mif\u001b[39;00m \u001b[38;5;28mself\u001b[39m\u001b[38;5;241m.\u001b[39mcolumns\u001b[38;5;241m.\u001b[39mnlevels \u001b[38;5;241m>\u001b[39m \u001b[38;5;241m1\u001b[39m:\n\u001b[1;32m   3804\u001b[0m     \u001b[38;5;28;01mreturn\u001b[39;00m \u001b[38;5;28mself\u001b[39m\u001b[38;5;241m.\u001b[39m_getitem_multilevel(key)\n\u001b[0;32m-> 3805\u001b[0m indexer \u001b[38;5;241m=\u001b[39m \u001b[38;5;28;43mself\u001b[39;49m\u001b[38;5;241;43m.\u001b[39;49m\u001b[43mcolumns\u001b[49m\u001b[38;5;241;43m.\u001b[39;49m\u001b[43mget_loc\u001b[49m\u001b[43m(\u001b[49m\u001b[43mkey\u001b[49m\u001b[43m)\u001b[49m\n\u001b[1;32m   3806\u001b[0m \u001b[38;5;28;01mif\u001b[39;00m is_integer(indexer):\n\u001b[1;32m   3807\u001b[0m     indexer \u001b[38;5;241m=\u001b[39m [indexer]\n",
      "File \u001b[0;32m~/miniconda3/envs/gdal_3/lib/python3.11/site-packages/pandas/core/indexes/base.py:3805\u001b[0m, in \u001b[0;36mIndex.get_loc\u001b[0;34m(self, key, method, tolerance)\u001b[0m\n\u001b[1;32m   3803\u001b[0m     \u001b[38;5;28;01mreturn\u001b[39;00m \u001b[38;5;28mself\u001b[39m\u001b[38;5;241m.\u001b[39m_engine\u001b[38;5;241m.\u001b[39mget_loc(casted_key)\n\u001b[1;32m   3804\u001b[0m \u001b[38;5;28;01mexcept\u001b[39;00m \u001b[38;5;167;01mKeyError\u001b[39;00m \u001b[38;5;28;01mas\u001b[39;00m err:\n\u001b[0;32m-> 3805\u001b[0m     \u001b[38;5;28;01mraise\u001b[39;00m \u001b[38;5;167;01mKeyError\u001b[39;00m(key) \u001b[38;5;28;01mfrom\u001b[39;00m \u001b[38;5;21;01merr\u001b[39;00m\n\u001b[1;32m   3806\u001b[0m \u001b[38;5;28;01mexcept\u001b[39;00m \u001b[38;5;167;01mTypeError\u001b[39;00m:\n\u001b[1;32m   3807\u001b[0m     \u001b[38;5;66;03m# If we have a listlike key, _check_indexing_error will raise\u001b[39;00m\n\u001b[1;32m   3808\u001b[0m     \u001b[38;5;66;03m#  InvalidIndexError. Otherwise we fall through and re-raise\u001b[39;00m\n\u001b[1;32m   3809\u001b[0m     \u001b[38;5;66;03m#  the TypeError.\u001b[39;00m\n\u001b[1;32m   3810\u001b[0m     \u001b[38;5;28mself\u001b[39m\u001b[38;5;241m.\u001b[39m_check_indexing_error(key)\n",
      "\u001b[0;31mKeyError\u001b[0m: 'Household deprivation (6 categories) Code'"
     ]
    }
   ],
   "source": [
    "# create percentage of households with diff deprivations per output area \n",
    "df['upd_indx'] = df['Household deprivation (6 categories) Code'].astype(int) - 1 \n",
    "\n",
    "total_households  = pd.pivot_table(df, index = 'Output Areas Code', values = 'Observation', aggfunc='sum') \n",
    "\n",
    "h_depr = pd.pivot_table(df, index = 'Output Areas Code', values = 'Observation', columns = 'upd_indx', aggfunc='sum') \n",
    "perc_df = h_depr.join(total_households)\n",
    "\n",
    "if len(perc_df[perc_df[-9] >0]) > 0:\n",
    "    raise ValueError('Some households present with value -9')    \n",
    "\n",
    "perc_df['perc_households_w_deprivation0'] = perc_df[0] / perc_df['Observation']    \n",
    "perc_df['perc_households_w_deprivation1'] = perc_df[1] / perc_df['Observation']    \n",
    "perc_df['perc_households_w_deprivation2'] = perc_df[2] / perc_df['Observation']\n",
    "perc_df['perc_households_w_deprivation3'] = perc_df[3] / perc_df['Observation']\n",
    "perc_df['perc_households_w_deprivation4'] = perc_df[4] / perc_df['Observation']\n",
    "\n",
    "\n",
    "# Calculate the sum of the columns perc_1 to perc_8\n",
    "column_sum = perc_df[['perc_households_w_deprivation0', 'perc_households_w_deprivation1', 'perc_households_w_deprivation2', 'perc_households_w_deprivation3', 'perc_households_w_deprivation4']].sum(axis=1)\n",
    "\n",
    "# Check if the sum is equal to 1 for each row\n",
    "is_sum_equal_to_1 = np.isclose(column_sum, 1)\n",
    "\n",
    "# Print the rows where the sum is not equal to 1\n",
    "if len (perc_df[~is_sum_equal_to_1]) != 0:\n",
    "    raise ValueError('The conversion to percentages has failed.' ) \n",
    "\n",
    "perc_df[['perc_households_w_deprivation0', 'perc_households_w_deprivation1', 'perc_households_w_deprivation2', 'perc_households_w_deprivation3', 'perc_households_w_deprivation4']].reset_index().to_csv('/Users/gracecolverd/New_dataset/data/census_attrs/household_deprivation.csv', index = False)\n",
    "\n"
   ]
  },
  {
   "cell_type": "code",
   "execution_count": 10,
   "metadata": {},
   "outputs": [
    {
     "name": "stdout",
     "output_type": "stream",
     "text": [
      "attr saved, len  188880\n"
     ]
    }
   ],
   "source": [
    "df = pd.read_csv('/Volumes/T9/Data_downloads/census_2021/occupation/TS063-2021-5-filtered-2024-03-04T15_38_25Z.csv')\n",
    "code_col = 'Occupation (current) (10 categories) Code'\n",
    "val_col = 'Occupation (current) (10 categories)'\n",
    "attr = 'occupation'\n",
    "create_simple_census_perc(df, code_col, val_col, attr)"
   ]
  },
  {
   "cell_type": "code",
   "execution_count": 11,
   "metadata": {},
   "outputs": [
    {
     "name": "stdout",
     "output_type": "stream",
     "text": [
      "attr saved, len  188880\n"
     ]
    }
   ],
   "source": [
    "df= pd.read_csv('/Volumes/T9/Data_downloads/census_2021/economic_activity/TS066-2021-6-filtered-2024-03-04T15_29_15Z.csv') \n",
    "code_col = 'Economic activity status (20 categories) Code'\n",
    "val_col = 'Economic activity status (20 categories)'\n",
    "attr = 'economic_activity'\n",
    "create_simple_census_perc(df, code_col, val_col, attr)  "
   ]
  },
  {
   "cell_type": "code",
   "execution_count": null,
   "metadata": {},
   "outputs": [],
   "source": []
  },
  {
   "cell_type": "code",
   "execution_count": 12,
   "metadata": {},
   "outputs": [
    {
     "name": "stdout",
     "output_type": "stream",
     "text": [
      "attr saved, len  188880\n"
     ]
    }
   ],
   "source": [
    "df = pd.read_csv('/Volumes/T9/Data_downloads/census_2021/household_size/TS017-2021-3-filtered-2024-03-04T16_36_34Z.csv')\n",
    "df.head()\n",
    "create_simple_census_perc(df,'Household size (9 categories) Code', 'Household size (9 categories)', 'household_siz_perc' )"
   ]
  },
  {
   "cell_type": "code",
   "execution_count": 13,
   "metadata": {},
   "outputs": [
    {
     "name": "stdout",
     "output_type": "stream",
     "text": [
      "attr saved, len  188880\n"
     ]
    }
   ],
   "source": [
    "df=pd.read_csv('/Volumes/T9/Data_downloads/census_2021/ethnic_group/TS021-2021-3-filtered-2024-03-05T10_06_33Z.csv')\n",
    "df.head()  \n",
    "create_simple_census_perc(df, 'Ethnic group (20 categories) Code', 'Ethnic group (20 categories)', 'ethnic_group')"
   ]
  },
  {
   "cell_type": "code",
   "execution_count": 14,
   "metadata": {},
   "outputs": [
    {
     "name": "stdout",
     "output_type": "stream",
     "text": [
      "attr saved, len  188880\n"
     ]
    }
   ],
   "source": [
    "df= pd.read_csv('/Volumes/T9/Data_downloads/census_2021/sex_by_age/RM121-2021-1-filtered-2024-03-05T10_10_26Z.csv') \n",
    "df.head()\n",
    "create_simple_census_perc(df, 'Sex (2 categories) Code', 'Sex (2 categories)', 'sex')"
   ]
  },
  {
   "cell_type": "code",
   "execution_count": 61,
   "metadata": {},
   "outputs": [
    {
     "name": "stdout",
     "output_type": "stream",
     "text": [
      "attr saved, len  188880\n"
     ]
    }
   ],
   "source": [
    "df= pd.read_csv('/Volumes/T9/Data_downloads/census_2021/sex_by_age/RM121-2021-1-filtered-2024-03-05T10_10_26Z.csv') \n",
    "df.head()\n",
    "create_simple_census_perc(df, 'Age (23 categories) Code', 'Age (23 categories)', 'age')"
   ]
  },
  {
   "cell_type": "code",
   "execution_count": 15,
   "metadata": {},
   "outputs": [
    {
     "name": "stderr",
     "output_type": "stream",
     "text": [
      "/var/folders/n5/_2d3c5sd5j3810327mknn0sh0000gn/T/ipykernel_48157/1202531282.py:27: FutureWarning: merging between different levels is deprecated and will be removed in a future version. (2 levels on the left, 1 on the right)\n",
      "  perc_df = h.join(total_households)\n"
     ]
    },
    {
     "name": "stdout",
     "output_type": "stream",
     "text": [
      "attr saved, len  188880\n"
     ]
    }
   ],
   "source": [
    "# household comp by bedroom \n",
    "import pandas as pd \n",
    "import numpy as np \n",
    "\n",
    "df = pd.read_csv('/Volumes/T9/Data_downloads/census_2021/household_bedroom_number/RM059-2021-3-filtered-2024-03-04T15_28_43Z.csv') \n",
    "df.head() \n",
    "\n",
    "create_complex_census_attr(df, 'Household composition (6 categories) Code', 'Household composition (6 categories)', 'Number of Bedrooms (5 categories) Code', 'Number of Bedrooms (5 categories)',  'household_comp_by_bedroom' )"
   ]
  },
  {
   "cell_type": "code",
   "execution_count": 16,
   "metadata": {},
   "outputs": [],
   "source": [
    "df= pd.read_csv('/Volumes/T9/Data_downloads/census_2021/sex_by_age/RM121-2021-1-filtered-2024-03-05T10_10_26Z.csv') \n",
    "df.head()\n",
    "create_complex_census_attr(df, 'Sex (2 categories) Code', 'Sex (2 categories)', 'Age (23 categories) Code', 'Age (23 categories)',  'sex_by_age' )"
   ]
  },
  {
   "cell_type": "code",
   "execution_count": null,
   "metadata": {},
   "outputs": [
    {
     "name": "stdout",
     "output_type": "stream",
     "text": [
      "attr saved, len  188880\n"
     ]
    }
   ],
   "source": [
    "df = pd.read_csv('/Volumes/T9/Data_downloads/census_2021/occupancy_rating/TS052-2021-5-filtered-2024-04-18T10_01_16Z.csv')\n",
    "df.head()\n",
    "\n",
    "create_simple_census_perc(df, 'Occupancy rating for bedrooms (6 categories) Code', 'Occupancy rating for bedrooms (6 categories)', 'occupancy_rating')"
   ]
  },
  {
   "cell_type": "code",
   "execution_count": null,
   "metadata": {},
   "outputs": [
    {
     "name": "stdout",
     "output_type": "stream",
     "text": [
      "attr saved, len  188880\n"
     ]
    }
   ],
   "source": [
    "df = pd.read_csv('/Volumes/T9/Data_downloads/census_2021/central_heating/TS046-2021-4-filtered-2024-04-18T10_02_28Z.csv')\n",
    "df.head()\n",
    "create_simple_census_perc(df, 'Type of central heating in household (13 categories) Code', 'Type of central heating in household (13 categories)', 'central_heating')"
   ]
  },
  {
   "cell_type": "code",
   "execution_count": null,
   "metadata": {},
   "outputs": [
    {
     "name": "stdout",
     "output_type": "stream",
     "text": [
      "attr saved, len  188880\n"
     ]
    }
   ],
   "source": [
    "df = pd.read_csv('/Volumes/T9/Data_downloads/census_2021/highest_qualification/TS067-2021-3-filtered-2024-04-18T09_58_11Z.csv')\n",
    "df.head()\n",
    "create_simple_census_perc(df, 'Highest level of qualification (8 categories) Code', 'Highest level of qualification (8 categories)', 'highest_qual')"
   ]
  },
  {
   "cell_type": "code",
   "execution_count": null,
   "metadata": {},
   "outputs": [
    {
     "name": "stdout",
     "output_type": "stream",
     "text": [
      "attr saved, len  188880\n"
     ]
    }
   ],
   "source": [
    "df = pd.read_csv('/Volumes/T9/Data_downloads/census_2021/tenure/TS054-2021-4-filtered-2024-04-18T10_19_46Z.csv')\n",
    "df.head()\n",
    "create_simple_census_perc(df, 'Tenure of household (9 categories) Code', 'Tenure of household (9 categories)', 'tenure')"
   ]
  },
  {
   "cell_type": "code",
   "execution_count": null,
   "metadata": {},
   "outputs": [
    {
     "name": "stdout",
     "output_type": "stream",
     "text": [
      "attr saved, len  188880\n"
     ]
    }
   ],
   "source": [
    "df=pd.read_csv('/Volumes/T9/Data_downloads/census_2021/level_SE/TS062-2021-5-filtered-2024-04-18T10_23_30Z.csv')\n",
    "df.head()\n",
    "create_simple_census_perc(df, 'National Statistics Socio-economic Classification (NS-SeC) (10 categories) Code', 'National Statistics Socio-economic Classification (NS-SeC) (10 categories)', 'tenure')"
   ]
  },
  {
   "cell_type": "code",
   "execution_count": null,
   "metadata": {},
   "outputs": [],
   "source": []
  },
  {
   "cell_type": "code",
   "execution_count": 38,
   "metadata": {},
   "outputs": [],
   "source": [
    "average = perc_df.iloc[:, 0:9].mean(axis=1)\n"
   ]
  },
  {
   "cell_type": "code",
   "execution_count": 39,
   "metadata": {},
   "outputs": [
    {
     "data": {
      "text/plain": [
       "Output Areas Code\n",
       "E00000001    10.444444\n",
       "E00000003    12.111111\n",
       "E00000005     7.000000\n",
       "E00000007     9.666667\n",
       "E00000010    13.888889\n",
       "               ...    \n",
       "W00010693     6.444444\n",
       "W00010694    17.666667\n",
       "W00010695     8.222222\n",
       "W00010696    10.777778\n",
       "W00010697    13.777778\n",
       "Length: 188880, dtype: float64"
      ]
     },
     "execution_count": 39,
     "metadata": {},
     "output_type": "execute_result"
    }
   ],
   "source": [
    "average"
   ]
  },
  {
   "cell_type": "code",
   "execution_count": null,
   "metadata": {},
   "outputs": [],
   "source": []
  }
 ],
 "metadata": {
  "kernelspec": {
   "display_name": "gdal_3",
   "language": "python",
   "name": "python3"
  },
  "language_info": {
   "codemirror_mode": {
    "name": "ipython",
    "version": 3
   },
   "file_extension": ".py",
   "mimetype": "text/x-python",
   "name": "python",
   "nbconvert_exporter": "python",
   "pygments_lexer": "ipython3",
   "version": "3.11.0"
  }
 },
 "nbformat": 4,
 "nbformat_minor": 2
}
