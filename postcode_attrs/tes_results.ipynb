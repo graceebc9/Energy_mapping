{
 "cells": [
  {
   "cell_type": "code",
   "execution_count": 1,
   "metadata": {},
   "outputs": [
    {
     "ename": "ImportError",
     "evalue": "cannot import name 'load_onsud_data' from 'src.fuel_proc' (/Users/gracecolverd/New_dataset/src/fuel_proc.py)",
     "output_type": "error",
     "traceback": [
      "\u001b[0;31m---------------------------------------------------------------------------\u001b[0m",
      "\u001b[0;31mImportError\u001b[0m                               Traceback (most recent call last)",
      "Cell \u001b[0;32mIn[1], line 5\u001b[0m\n\u001b[1;32m      3\u001b[0m sys\u001b[38;5;241m.\u001b[39mpath\u001b[38;5;241m.\u001b[39mappend(\u001b[38;5;124m'\u001b[39m\u001b[38;5;124m/Users/gracecolverd/New_dataset\u001b[39m\u001b[38;5;124m'\u001b[39m)\n\u001b[1;32m      4\u001b[0m \u001b[38;5;28;01mimport\u001b[39;00m \u001b[38;5;21;01mos\u001b[39;00m \n\u001b[0;32m----> 5\u001b[0m \u001b[38;5;28;01mfrom\u001b[39;00m \u001b[38;5;21;01msrc\u001b[39;00m\u001b[38;5;21;01m.\u001b[39;00m\u001b[38;5;21;01mfuel_proc\u001b[39;00m \u001b[38;5;28;01mimport\u001b[39;00m load_fuel_data , load_onsud_data, get_pcs_to_process, run_fuel_calc\n\u001b[1;32m      6\u001b[0m \u001b[38;5;28;01mfrom\u001b[39;00m \u001b[38;5;21;01msrc\u001b[39;00m\u001b[38;5;21;01m.\u001b[39;00m\u001b[38;5;21;01mmulti_thread\u001b[39;00m \u001b[38;5;28;01mimport\u001b[39;00m merge_temp_logs_to_main \n",
      "\u001b[0;31mImportError\u001b[0m: cannot import name 'load_onsud_data' from 'src.fuel_proc' (/Users/gracecolverd/New_dataset/src/fuel_proc.py)"
     ]
    }
   ],
   "source": [
    "import pandas as pd \n",
    "import sys \n",
    "sys.path.append('/Users/gracecolverd/New_dataset')\n",
    "import os \n",
    "from src.fuel_proc import load_fuel_data , load_onsud_data, get_pcs_to_process, run_fuel_calc\n",
    "from src.multi_thread import merge_temp_logs_to_main "
   ]
  },
  {
   "cell_type": "code",
   "execution_count": 2,
   "metadata": {},
   "outputs": [],
   "source": [
    "proc_dir='/Users/gracecolverd/New_dataset/old'\n",
    "gas_path='/Volumes/T9/Data_downloads/UKGOV_Gas_elec/Postcode_level_gas_2022.csv'\n",
    "elec_path='/Volumes/T9/Data_downloads/UKGOV_Gas_elec/Postcode_level_all_meters_electricity_2022.csv'\n",
    "path_to_onsud_file='/Volumes/T9/Data_downloads/ONS_UPRN_database/ONSUD_DEC_2022/Data/ONSUD_DEC_2022_EE.csv'\n",
    "path_to_pcshp='/Volumes/T9/Data_downloads/codepoint_polygons_edina/Download_all_postcodes_2378998/codepoint-poly_5267291'\n",
    "INPUT_GPK='/Volumes/T9/Data_downloads/Versik_building_data/2024_03_22_updated_data/UKBuildings_Edition_15_new_format_upn.gpkg'\n",
    "MAX_WORKERS=6\n",
    "BATCH_SIZE=50\n",
    "\n"
   ]
  },
  {
   "cell_type": "code",
   "execution_count": 5,
   "metadata": {},
   "outputs": [
    {
     "name": "stdout",
     "output_type": "stream",
     "text": [
      "Finding data for ONSUD file  NE\n"
     ]
    },
    {
     "name": "stderr",
     "output_type": "stream",
     "text": [
      "/Users/gracecolverd/New_dataset/src/fuel_proc.py:18: DtypeWarning: Columns (25,27) have mixed types. Specify dtype option on import or set low_memory=False.\n",
      "  ee = pd.read_csv(path_to_onsud_file)\n"
     ]
    },
    {
     "name": "stdout",
     "output_type": "stream",
     "text": [
      "Len of missing rows  0\n"
     ]
    }
   ],
   "source": [
    "# log = os.path.join(proc_dir, 'log_file.csv')\n",
    "path_to_onsud_file=\n",
    "gas_df, elec_df = load_fuel_data(gas_path, elec_path )\n",
    "\n",
    "onsud_data = load_onsud_data(path_to_onsud_file, path_to_pcshp)\n",
    "\n",
    "# pc_list = get_pcs_to_process(onsud_data, log)'/Volumes/T9/Data_downloads/ONS_UPRN_database/ONSUD_DEC_2022/Data/ONSUD_DEC_2022_NE.csv'"
   ]
  },
  {
   "cell_type": "code",
   "execution_count": null,
   "metadata": {},
   "outputs": [],
   "source": [
    "# issues with building file \n",
    "# issues with building metrics \n",
    "# issues with postcode rollups\n",
    "# excluding some buildings \n"
   ]
  },
  {
   "cell_type": "code",
   "execution_count": 4,
   "metadata": {},
   "outputs": [
    {
     "name": "stderr",
     "output_type": "stream",
     "text": [
      " do not form a closed linestring\n"
     ]
    },
    {
     "name": "stdout",
     "output_type": "stream",
     "text": [
      "TS24 8NG\n"
     ]
    },
    {
     "ename": "ValueError",
     "evalue": "GEOSGeom_createLinearRing_r returned a NULL pointer",
     "output_type": "error",
     "traceback": [
      "\u001b[0;31m---------------------------------------------------------------------------\u001b[0m",
      "\u001b[0;31mValueError\u001b[0m                                Traceback (most recent call last)",
      "Cell \u001b[0;32mIn[4], line 9\u001b[0m\n\u001b[1;32m      7\u001b[0m pc\u001b[38;5;241m=\u001b[39m\u001b[38;5;124m'\u001b[39m\u001b[38;5;124mPE32 2LG\u001b[39m\u001b[38;5;124m'\u001b[39m\n\u001b[1;32m      8\u001b[0m pc\u001b[38;5;241m=\u001b[39m \u001b[38;5;124m'\u001b[39m\u001b[38;5;124mTS24 8NG\u001b[39m\u001b[38;5;124m'\u001b[39m\n\u001b[0;32m----> 9\u001b[0m pc_result \u001b[38;5;241m=\u001b[39m \u001b[43mprocess_postcode_fuel\u001b[49m\u001b[43m(\u001b[49m\u001b[43mpc\u001b[49m\u001b[43m,\u001b[49m\u001b[43m \u001b[49m\u001b[43monsud_data\u001b[49m\u001b[43m,\u001b[49m\u001b[43m \u001b[49m\u001b[43mgas_df\u001b[49m\u001b[43m,\u001b[49m\u001b[43m \u001b[49m\u001b[43melec_df\u001b[49m\u001b[43m,\u001b[49m\u001b[43m \u001b[49m\u001b[43mINPUT_GPK\u001b[49m\u001b[43m)\u001b[49m\n",
      "File \u001b[0;32m~/New_dataset/src/fuel_calc.py:171\u001b[0m, in \u001b[0;36mprocess_postcode_fuel\u001b[0;34m(pc, data, gas_df, elec_df, INPUT_GPK)\u001b[0m\n\u001b[1;32m    169\u001b[0m \u001b[38;5;124;03m\"\"\"Process one postcode, deriving building attributes and electricity and fuel info.\"\"\"\u001b[39;00m\n\u001b[1;32m    170\u001b[0m \u001b[38;5;28mprint\u001b[39m(pc)\n\u001b[0;32m--> 171\u001b[0m uprn_match \u001b[38;5;241m=\u001b[39m \u001b[43mfind_data_pc\u001b[49m\u001b[43m(\u001b[49m\u001b[43mpc\u001b[49m\u001b[43m,\u001b[49m\u001b[43m \u001b[49m\u001b[43mdata\u001b[49m\u001b[43m,\u001b[49m\u001b[43m \u001b[49m\u001b[43minput_gpk\u001b[49m\u001b[38;5;241;43m=\u001b[39;49m\u001b[43mINPUT_GPK\u001b[49m\u001b[43m)\u001b[49m\n\u001b[1;32m    173\u001b[0m \u001b[38;5;66;03m# Generate building metrics, clean and test\u001b[39;00m\n\u001b[1;32m    174\u001b[0m df , num_invalid \u001b[38;5;241m=\u001b[39m pre_process_building_data(uprn_match)    \n",
      "File \u001b[0;32m~/New_dataset/src/postcode_attr.py:93\u001b[0m, in \u001b[0;36mfind_data_pc\u001b[0;34m(pc, data, input_gpk)\u001b[0m\n\u001b[1;32m     89\u001b[0m \u001b[38;5;124;03m\"\"\"\u001b[39;00m\n\u001b[1;32m     90\u001b[0m \u001b[38;5;124;03mFind buildings based on UPRN match to the postcodes \u001b[39;00m\n\u001b[1;32m     91\u001b[0m \u001b[38;5;124;03m\"\"\"\u001b[39;00m\n\u001b[1;32m     92\u001b[0m gd \u001b[38;5;241m=\u001b[39m gpd\u001b[38;5;241m.\u001b[39mGeoDataFrame(data[data[\u001b[38;5;124m'\u001b[39m\u001b[38;5;124mPCDS\u001b[39m\u001b[38;5;124m'\u001b[39m] \u001b[38;5;241m==\u001b[39m pc]\u001b[38;5;241m.\u001b[39mcopy(), geometry\u001b[38;5;241m=\u001b[39m\u001b[38;5;124m'\u001b[39m\u001b[38;5;124mgeometry\u001b[39m\u001b[38;5;124m'\u001b[39m)\n\u001b[0;32m---> 93\u001b[0m bbox \u001b[38;5;241m=\u001b[39m \u001b[43mbox\u001b[49m\u001b[43m(\u001b[49m\u001b[38;5;241;43m*\u001b[39;49m\u001b[43mgd\u001b[49m\u001b[38;5;241;43m.\u001b[39;49m\u001b[43mtotal_bounds\u001b[49m\u001b[43m)\u001b[49m\n\u001b[1;32m     94\u001b[0m buildings \u001b[38;5;241m=\u001b[39m gpd\u001b[38;5;241m.\u001b[39mread_file(input_gpk, bbox\u001b[38;5;241m=\u001b[39mbbox)\n\u001b[1;32m     95\u001b[0m uprn_match \u001b[38;5;241m=\u001b[39m buildings[buildings[\u001b[38;5;124m'\u001b[39m\u001b[38;5;124muprn\u001b[39m\u001b[38;5;124m'\u001b[39m]\u001b[38;5;241m.\u001b[39misin(gd[\u001b[38;5;124m'\u001b[39m\u001b[38;5;124mUPRN\u001b[39m\u001b[38;5;124m'\u001b[39m])]\u001b[38;5;241m.\u001b[39mcopy()\n",
      "File \u001b[0;32m~/miniconda3/envs/gdal_3/lib/python3.11/site-packages/shapely/geometry/geo.py:64\u001b[0m, in \u001b[0;36mbox\u001b[0;34m(minx, miny, maxx, maxy, ccw)\u001b[0m\n\u001b[1;32m     62\u001b[0m \u001b[38;5;28;01mif\u001b[39;00m \u001b[38;5;129;01mnot\u001b[39;00m ccw:\n\u001b[1;32m     63\u001b[0m     coords \u001b[38;5;241m=\u001b[39m coords[::\u001b[38;5;241m-\u001b[39m\u001b[38;5;241m1\u001b[39m]\n\u001b[0;32m---> 64\u001b[0m \u001b[38;5;28;01mreturn\u001b[39;00m \u001b[43mPolygon\u001b[49m\u001b[43m(\u001b[49m\u001b[43mcoords\u001b[49m\u001b[43m)\u001b[49m\n",
      "File \u001b[0;32m~/miniconda3/envs/gdal_3/lib/python3.11/site-packages/shapely/geometry/polygon.py:261\u001b[0m, in \u001b[0;36mPolygon.__init__\u001b[0;34m(self, shell, holes)\u001b[0m\n\u001b[1;32m    258\u001b[0m BaseGeometry\u001b[38;5;241m.\u001b[39m\u001b[38;5;21m__init__\u001b[39m(\u001b[38;5;28mself\u001b[39m)\n\u001b[1;32m    260\u001b[0m \u001b[38;5;28;01mif\u001b[39;00m shell \u001b[38;5;129;01mis\u001b[39;00m \u001b[38;5;129;01mnot\u001b[39;00m \u001b[38;5;28;01mNone\u001b[39;00m:\n\u001b[0;32m--> 261\u001b[0m     ret \u001b[38;5;241m=\u001b[39m \u001b[43mgeos_polygon_from_py\u001b[49m\u001b[43m(\u001b[49m\u001b[43mshell\u001b[49m\u001b[43m,\u001b[49m\u001b[43m \u001b[49m\u001b[43mholes\u001b[49m\u001b[43m)\u001b[49m\n\u001b[1;32m    262\u001b[0m     \u001b[38;5;28;01mif\u001b[39;00m ret \u001b[38;5;129;01mis\u001b[39;00m \u001b[38;5;129;01mnot\u001b[39;00m \u001b[38;5;28;01mNone\u001b[39;00m:\n\u001b[1;32m    263\u001b[0m         geom, n \u001b[38;5;241m=\u001b[39m ret\n",
      "File \u001b[0;32m~/miniconda3/envs/gdal_3/lib/python3.11/site-packages/shapely/geometry/polygon.py:539\u001b[0m, in \u001b[0;36mgeos_polygon_from_py\u001b[0;34m(shell, holes)\u001b[0m\n\u001b[1;32m    536\u001b[0m     \u001b[38;5;28;01mreturn\u001b[39;00m geos_geom_from_py(shell)\n\u001b[1;32m    538\u001b[0m \u001b[38;5;28;01mif\u001b[39;00m shell \u001b[38;5;129;01mis\u001b[39;00m \u001b[38;5;129;01mnot\u001b[39;00m \u001b[38;5;28;01mNone\u001b[39;00m:\n\u001b[0;32m--> 539\u001b[0m     ret \u001b[38;5;241m=\u001b[39m \u001b[43mgeos_linearring_from_py\u001b[49m\u001b[43m(\u001b[49m\u001b[43mshell\u001b[49m\u001b[43m)\u001b[49m\n\u001b[1;32m    540\u001b[0m     \u001b[38;5;28;01mif\u001b[39;00m ret \u001b[38;5;129;01mis\u001b[39;00m \u001b[38;5;28;01mNone\u001b[39;00m:\n\u001b[1;32m    541\u001b[0m         \u001b[38;5;28;01mreturn\u001b[39;00m \u001b[38;5;28;01mNone\u001b[39;00m\n",
      "File \u001b[0;32m~/miniconda3/envs/gdal_3/lib/python3.11/site-packages/shapely/speedups/_speedups.pyx:413\u001b[0m, in \u001b[0;36mshapely.speedups._speedups.geos_linearring_from_py\u001b[0;34m()\u001b[0m\n",
      "\u001b[0;31mValueError\u001b[0m: GEOSGeom_createLinearRing_r returned a NULL pointer"
     ]
    }
   ],
   "source": [
    "INPUT_GPK='/Volumes/T9/Data_downloads/Versik_building_data/2024_03_22_updated_data/UKBuildings_Edition_15_new_format_upn.gpkg'\n",
    "\n",
    "from src.fuel_proc import process_postcode_fuel \n",
    "\n",
    "pc= 'LU1 3ET' \n",
    "pc='EN7 6LT'\n",
    "pc='PE32 2LG'\n",
    "pc= 'TS24 8NG'\n",
    "pc_result = process_postcode_fuel(pc, onsud_data, gas_df, elec_df, INPUT_GPK)"
   ]
  },
  {
   "cell_type": "code",
   "execution_count": 10,
   "metadata": {},
   "outputs": [
    {
     "data": {
      "text/plain": [
       "{'postcode': 'PE32 2LG',\n",
       " 'num_invalid_builds': 0,\n",
       " 'all_types_total_buildings': 9,\n",
       " 'all_types_build_vol_FGA_total': 20160.759286060333,\n",
       " 'all_types_base_floor_total': 0,\n",
       " 'all_types_build_vol_inc_basement_FGA_total': 20160.759286060333,\n",
       " 'all_types_heated_vol_EA_FGA_total': 9721.365803602273,\n",
       " 'all_types_heated_vol_FGA_total': 9721.365803602273,\n",
       " 'all_types_heated_vol_inc_basement_EA_FGA_total': 9721.365803602273,\n",
       " 'all_types_heated_vol_inc_basement_FGA_total': 9721.365803602273,\n",
       " 'all_types_listed_bool_total': 1,\n",
       " 'res_total_buildings': 5,\n",
       " 'res_build_vol_FGA_total': 8956.37984592437,\n",
       " 'res_base_floor_total': 0,\n",
       " 'res_build_vol_inc_basement_FGA_total': 8956.37984592437,\n",
       " 'res_heated_vol_EA_FGA_total': 4727.4200824737545,\n",
       " 'res_heated_vol_FGA_total': 4727.4200824737545,\n",
       " 'res_heated_vol_inc_basement_EA_FGA_total': 4727.4200824737545,\n",
       " 'res_heated_vol_inc_basement_FGA_total': 4727.4200824737545,\n",
       " 'res_listed_bool_total': 0,\n",
       " 'mixed_total_buildings': nan,\n",
       " 'mixed_build_vol_FGA_total': nan,\n",
       " 'mixed_base_floor_total': nan,\n",
       " 'mixed_build_vol_inc_basement_FGA_total': nan,\n",
       " 'mixed_heated_vol_EA_FGA_total': nan,\n",
       " 'mixed_heated_vol_FGA_total': nan,\n",
       " 'mixed_heated_vol_inc_basement_EA_FGA_total': nan,\n",
       " 'mixed_heated_vol_inc_basement_FGA_total': nan,\n",
       " 'mixed_listed_bool_total': nan,\n",
       " 'comm_total_buildings': nan,\n",
       " 'comm_build_vol_FGA_total': nan,\n",
       " 'comm_base_floor_total': nan,\n",
       " 'comm_build_vol_inc_basement_FGA_total': nan,\n",
       " 'comm_heated_vol_EA_FGA_total': nan,\n",
       " 'comm_heated_vol_FGA_total': nan,\n",
       " 'comm_heated_vol_inc_basement_EA_FGA_total': nan,\n",
       " 'comm_heated_vol_inc_basement_FGA_total': nan,\n",
       " 'comm_listed_bool_total': nan,\n",
       " 'total_gas': nan,\n",
       " 'avg_gas': nan,\n",
       " 'median_gas': nan,\n",
       " 'num_meters': 9,\n",
       " 'total_elec': 69398.5,\n",
       " 'avg_elec': 7710.944444444444,\n",
       " 'median_elec': 5781.5}"
      ]
     },
     "execution_count": 10,
     "metadata": {},
     "output_type": "execute_result"
    }
   ],
   "source": [
    "pc_result\n",
    "# ['res_heated_vol_FGA_total']\n",
    "\n"
   ]
  },
  {
   "cell_type": "code",
   "execution_count": 56,
   "metadata": {},
   "outputs": [],
   "source": [
    "temp= pd.read_csv('/Users/gracecolverd/New_dataset/old/proc_dir/temp_log_zvb7_03h.csv') \n",
    "\n",
    "log = pd.read_csv('/Users/gracecolverd/New_dataset/postcode_attrs/temp_files/log_file.csv')"
   ]
  },
  {
   "cell_type": "code",
   "execution_count": 15,
   "metadata": {},
   "outputs": [
    {
     "data": {
      "text/html": [
       "<div>\n",
       "<style scoped>\n",
       "    .dataframe tbody tr th:only-of-type {\n",
       "        vertical-align: middle;\n",
       "    }\n",
       "\n",
       "    .dataframe tbody tr th {\n",
       "        vertical-align: top;\n",
       "    }\n",
       "\n",
       "    .dataframe thead th {\n",
       "        text-align: right;\n",
       "    }\n",
       "</style>\n",
       "<table border=\"1\" class=\"dataframe\">\n",
       "  <thead>\n",
       "    <tr style=\"text-align: right;\">\n",
       "      <th></th>\n",
       "      <th>postcode</th>\n",
       "      <th>num_invalid_builds</th>\n",
       "      <th>res_total_buildings</th>\n",
       "      <th>res_build_vol_FGA_total</th>\n",
       "      <th>res_base_floor_total</th>\n",
       "      <th>res_build_vol_inc_basement_FGA_total</th>\n",
       "      <th>res_heated_vol_EA_FGA_total</th>\n",
       "      <th>res_heated_vol_FGA_total</th>\n",
       "      <th>res_heated_vol_inc_basement_EA_FGA_total</th>\n",
       "      <th>res_heated_vol_inc_basement_FGA_total</th>\n",
       "      <th>...</th>\n",
       "      <th>all_types_heated_vol_inc_basement_EA_FGA_total</th>\n",
       "      <th>all_types_heated_vol_inc_basement_FGA_total</th>\n",
       "      <th>all_types_listed_bool_total</th>\n",
       "      <th>num_meters</th>\n",
       "      <th>total_gas</th>\n",
       "      <th>avg_gas</th>\n",
       "      <th>median_gas</th>\n",
       "      <th>total_elec</th>\n",
       "      <th>avg_elec</th>\n",
       "      <th>median_elec</th>\n",
       "    </tr>\n",
       "  </thead>\n",
       "  <tbody>\n",
       "  </tbody>\n",
       "</table>\n",
       "<p>0 rows × 45 columns</p>\n",
       "</div>"
      ],
      "text/plain": [
       "Empty DataFrame\n",
       "Columns: [postcode, num_invalid_builds, res_total_buildings, res_build_vol_FGA_total, res_base_floor_total, res_build_vol_inc_basement_FGA_total, res_heated_vol_EA_FGA_total, res_heated_vol_FGA_total, res_heated_vol_inc_basement_EA_FGA_total, res_heated_vol_inc_basement_FGA_total, res_listed_bool_total, mixed_total_buildings, mixed_build_vol_FGA_total, mixed_base_floor_total, mixed_build_vol_inc_basement_FGA_total, mixed_heated_vol_EA_FGA_total, mixed_heated_vol_FGA_total, mixed_heated_vol_inc_basement_EA_FGA_total, mixed_heated_vol_inc_basement_FGA_total, mixed_listed_bool_total, comm_total_buildings, comm_build_vol_FGA_total, comm_base_floor_total, comm_build_vol_inc_basement_FGA_total, comm_heated_vol_EA_FGA_total, comm_heated_vol_FGA_total, comm_heated_vol_inc_basement_EA_FGA_total, comm_heated_vol_inc_basement_FGA_total, comm_listed_bool_total, all_types_total_buildings, all_types_build_vol_FGA_total, all_types_base_floor_total, all_types_build_vol_inc_basement_FGA_total, all_types_heated_vol_EA_FGA_total, all_types_heated_vol_FGA_total, all_types_heated_vol_inc_basement_EA_FGA_total, all_types_heated_vol_inc_basement_FGA_total, all_types_listed_bool_total, num_meters, total_gas, avg_gas, median_gas, total_elec, avg_elec, median_elec]\n",
       "Index: []\n",
       "\n",
       "[0 rows x 45 columns]"
      ]
     },
     "execution_count": 15,
     "metadata": {},
     "output_type": "execute_result"
    }
   ],
   "source": [
    "pc='EN7 6LT'\n",
    "pc='PE32 2LG'\n",
    "\n"
   ]
  },
  {
   "cell_type": "code",
   "execution_count": 57,
   "metadata": {},
   "outputs": [],
   "source": [
    "merg = log.merge(temp, on ='postcode', how='inner')"
   ]
  },
  {
   "cell_type": "code",
   "execution_count": 59,
   "metadata": {},
   "outputs": [
    {
     "data": {
      "text/html": [
       "<div>\n",
       "<style scoped>\n",
       "    .dataframe tbody tr th:only-of-type {\n",
       "        vertical-align: middle;\n",
       "    }\n",
       "\n",
       "    .dataframe tbody tr th {\n",
       "        vertical-align: top;\n",
       "    }\n",
       "\n",
       "    .dataframe thead th {\n",
       "        text-align: right;\n",
       "    }\n",
       "</style>\n",
       "<table border=\"1\" class=\"dataframe\">\n",
       "  <thead>\n",
       "    <tr style=\"text-align: right;\">\n",
       "      <th></th>\n",
       "      <th>postcode</th>\n",
       "      <th>all_types_total_buildings_x</th>\n",
       "      <th>all_types_build_vol_FGA_total_x</th>\n",
       "      <th>all_types_base_floor_total_x</th>\n",
       "      <th>all_types_build_vol_inc_basement_FGA_total_x</th>\n",
       "      <th>all_types_heated_vol_EA_FGA_total_x</th>\n",
       "      <th>all_types_heated_vol_FGA_total_x</th>\n",
       "      <th>all_types_heated_vol_inc_basement_EA_FGA_total_x</th>\n",
       "      <th>all_types_heated_vol_inc_basement_FGA_total_x</th>\n",
       "      <th>all_types_listed_bool_total_x</th>\n",
       "      <th>...</th>\n",
       "      <th>comm_heated_vol_inc_basement_EA_FGA_total_y</th>\n",
       "      <th>comm_heated_vol_inc_basement_FGA_total_y</th>\n",
       "      <th>comm_listed_bool_total_y</th>\n",
       "      <th>num_meters_y</th>\n",
       "      <th>total_gas_y</th>\n",
       "      <th>avg_gas_y</th>\n",
       "      <th>median_gas_y</th>\n",
       "      <th>total_elec_y</th>\n",
       "      <th>avg_elec_y</th>\n",
       "      <th>median_elec_y</th>\n",
       "    </tr>\n",
       "  </thead>\n",
       "  <tbody>\n",
       "  </tbody>\n",
       "</table>\n",
       "<p>0 rows × 88 columns</p>\n",
       "</div>"
      ],
      "text/plain": [
       "Empty DataFrame\n",
       "Columns: [postcode, all_types_total_buildings_x, all_types_build_vol_FGA_total_x, all_types_base_floor_total_x, all_types_build_vol_inc_basement_FGA_total_x, all_types_heated_vol_EA_FGA_total_x, all_types_heated_vol_FGA_total_x, all_types_heated_vol_inc_basement_EA_FGA_total_x, all_types_heated_vol_inc_basement_FGA_total_x, all_types_listed_bool_total_x, res_total_buildings_x, res_build_vol_FGA_total_x, res_base_floor_total_x, res_build_vol_inc_basement_FGA_total_x, res_heated_vol_EA_FGA_total_x, res_heated_vol_FGA_total_x, res_heated_vol_inc_basement_EA_FGA_total_x, res_heated_vol_inc_basement_FGA_total_x, res_listed_bool_total_x, mixed_total_buildings_x, mixed_build_vol_FGA_total_x, mixed_base_floor_total_x, mixed_build_vol_inc_basement_FGA_total_x, mixed_heated_vol_EA_FGA_total_x, mixed_heated_vol_FGA_total_x, mixed_heated_vol_inc_basement_EA_FGA_total_x, mixed_heated_vol_inc_basement_FGA_total_x, mixed_listed_bool_total_x, comm_total_buildings_x, comm_build_vol_FGA_total_x, comm_base_floor_total_x, comm_build_vol_inc_basement_FGA_total_x, comm_heated_vol_EA_FGA_total_x, comm_heated_vol_FGA_total_x, comm_heated_vol_inc_basement_EA_FGA_total_x, comm_heated_vol_inc_basement_FGA_total_x, comm_listed_bool_total_x, total_gas_x, avg_gas_x, median_gas_x, num_meters_x, total_elec_x, avg_elec_x, median_elec_x, num_invalid_builds, all_types_total_buildings_y, all_types_build_vol_FGA_total_y, all_types_base_floor_total_y, all_types_build_vol_inc_basement_FGA_total_y, all_types_heated_vol_EA_FGA_total_y, all_types_heated_vol_FGA_total_y, all_types_heated_vol_inc_basement_EA_FGA_total_y, all_types_heated_vol_inc_basement_FGA_total_y, all_types_listed_bool_total_y, res_total_buildings_y, res_build_vol_FGA_total_y, res_base_floor_total_y, res_build_vol_inc_basement_FGA_total_y, res_heated_vol_EA_FGA_total_y, res_heated_vol_FGA_total_y, res_heated_vol_inc_basement_EA_FGA_total_y, res_heated_vol_inc_basement_FGA_total_y, res_listed_bool_total_y, mixed_total_buildings_y, mixed_build_vol_FGA_total_y, mixed_base_floor_total_y, mixed_build_vol_inc_basement_FGA_total_y, mixed_heated_vol_EA_FGA_total_y, mixed_heated_vol_FGA_total_y, mixed_heated_vol_inc_basement_EA_FGA_total_y, mixed_heated_vol_inc_basement_FGA_total_y, mixed_listed_bool_total_y, comm_total_buildings_y, comm_build_vol_FGA_total_y, comm_base_floor_total_y, comm_build_vol_inc_basement_FGA_total_y, comm_heated_vol_EA_FGA_total_y, comm_heated_vol_FGA_total_y, comm_heated_vol_inc_basement_EA_FGA_total_y, comm_heated_vol_inc_basement_FGA_total_y, comm_listed_bool_total_y, num_meters_y, total_gas_y, avg_gas_y, median_gas_y, total_elec_y, avg_elec_y, median_elec_y]\n",
       "Index: []\n",
       "\n",
       "[0 rows x 88 columns]"
      ]
     },
     "execution_count": 59,
     "metadata": {},
     "output_type": "execute_result"
    }
   ],
   "source": [
    "merg[merg['all_types_build_vol_inc_basement_FGA_total_x'] != merg['all_types_build_vol_inc_basement_FGA_total_y']]\n",
    "# [['postcode', 'res_heated_vol_FGA_total_x' , 'res_heated_vol_FGA_total_y']]"
   ]
  },
  {
   "cell_type": "code",
   "execution_count": 20,
   "metadata": {},
   "outputs": [
    {
     "data": {
      "text/html": [
       "<div>\n",
       "<style scoped>\n",
       "    .dataframe tbody tr th:only-of-type {\n",
       "        vertical-align: middle;\n",
       "    }\n",
       "\n",
       "    .dataframe tbody tr th {\n",
       "        vertical-align: top;\n",
       "    }\n",
       "\n",
       "    .dataframe thead th {\n",
       "        text-align: right;\n",
       "    }\n",
       "</style>\n",
       "<table border=\"1\" class=\"dataframe\">\n",
       "  <thead>\n",
       "    <tr style=\"text-align: right;\">\n",
       "      <th></th>\n",
       "      <th>postcode</th>\n",
       "      <th>num_invalid_builds</th>\n",
       "      <th>res_total_buildings</th>\n",
       "      <th>res_build_vol_FGA_total</th>\n",
       "      <th>res_base_floor_total</th>\n",
       "      <th>res_build_vol_inc_basement_FGA_total</th>\n",
       "      <th>res_heated_vol_EA_FGA_total</th>\n",
       "      <th>res_heated_vol_FGA_total</th>\n",
       "      <th>res_heated_vol_inc_basement_EA_FGA_total</th>\n",
       "      <th>res_heated_vol_inc_basement_FGA_total</th>\n",
       "      <th>...</th>\n",
       "      <th>all_types_heated_vol_inc_basement_EA_FGA_total</th>\n",
       "      <th>all_types_heated_vol_inc_basement_FGA_total</th>\n",
       "      <th>all_types_listed_bool_total</th>\n",
       "      <th>num_meters</th>\n",
       "      <th>total_gas</th>\n",
       "      <th>avg_gas</th>\n",
       "      <th>median_gas</th>\n",
       "      <th>total_elec</th>\n",
       "      <th>avg_elec</th>\n",
       "      <th>median_elec</th>\n",
       "    </tr>\n",
       "  </thead>\n",
       "  <tbody>\n",
       "    <tr>\n",
       "      <th>53</th>\n",
       "      <td>EN8 8AZ</td>\n",
       "      <td>0.0</td>\n",
       "      <td>10.0</td>\n",
       "      <td>5526.530131</td>\n",
       "      <td>0.0</td>\n",
       "      <td>5526.530131</td>\n",
       "      <td>3308.045207</td>\n",
       "      <td>3308.045207</td>\n",
       "      <td>3308.045207</td>\n",
       "      <td>3308.045207</td>\n",
       "      <td>...</td>\n",
       "      <td>NaN</td>\n",
       "      <td>NaN</td>\n",
       "      <td>NaN</td>\n",
       "      <td>22.0</td>\n",
       "      <td>160967.203484</td>\n",
       "      <td>17885.244832</td>\n",
       "      <td>14377.959535</td>\n",
       "      <td>127730.0</td>\n",
       "      <td>5805.909091</td>\n",
       "      <td>3140.3</td>\n",
       "    </tr>\n",
       "  </tbody>\n",
       "</table>\n",
       "<p>1 rows × 45 columns</p>\n",
       "</div>"
      ],
      "text/plain": [
       "   postcode  num_invalid_builds  res_total_buildings  res_build_vol_FGA_total  \\\n",
       "53  EN8 8AZ                 0.0                 10.0              5526.530131   \n",
       "\n",
       "    res_base_floor_total  res_build_vol_inc_basement_FGA_total  \\\n",
       "53                   0.0                           5526.530131   \n",
       "\n",
       "    res_heated_vol_EA_FGA_total  res_heated_vol_FGA_total  \\\n",
       "53                  3308.045207               3308.045207   \n",
       "\n",
       "    res_heated_vol_inc_basement_EA_FGA_total  \\\n",
       "53                               3308.045207   \n",
       "\n",
       "    res_heated_vol_inc_basement_FGA_total  ...  \\\n",
       "53                            3308.045207  ...   \n",
       "\n",
       "    all_types_heated_vol_inc_basement_EA_FGA_total  \\\n",
       "53                                             NaN   \n",
       "\n",
       "    all_types_heated_vol_inc_basement_FGA_total  all_types_listed_bool_total  \\\n",
       "53                                          NaN                          NaN   \n",
       "\n",
       "    num_meters      total_gas       avg_gas    median_gas  total_elec  \\\n",
       "53        22.0  160967.203484  17885.244832  14377.959535    127730.0   \n",
       "\n",
       "       avg_elec  median_elec  \n",
       "53  5805.909091       3140.3  \n",
       "\n",
       "[1 rows x 45 columns]"
      ]
     },
     "execution_count": 20,
     "metadata": {},
     "output_type": "execute_result"
    }
   ],
   "source": [
    "pc='EN8 8AZ'\n",
    "\n",
    "temp[temp['postcode']==pc]"
   ]
  },
  {
   "cell_type": "code",
   "execution_count": 21,
   "metadata": {},
   "outputs": [
    {
     "name": "stdout",
     "output_type": "stream",
     "text": [
      "EN8 8AZ\n",
      "len df  10\n"
     ]
    }
   ],
   "source": [
    "pc_result = process_postcode_fuel(pc, onsud_data, gas_df, elec_df, INPUT_GPK)"
   ]
  },
  {
   "cell_type": "code",
   "execution_count": 22,
   "metadata": {},
   "outputs": [
    {
     "data": {
      "text/plain": [
       "2864.1900772094727"
      ]
     },
     "execution_count": 22,
     "metadata": {},
     "output_type": "execute_result"
    }
   ],
   "source": [
    "pc_result['res_heated_vol_FGA_total']"
   ]
  },
  {
   "cell_type": "code",
   "execution_count": 26,
   "metadata": {},
   "outputs": [
    {
     "data": {
      "text/plain": [
       "29"
      ]
     },
     "execution_count": 26,
     "metadata": {},
     "output_type": "execute_result"
    }
   ],
   "source": [
    "len(generate_null_attributes_full(pc))"
   ]
  },
  {
   "cell_type": "code",
   "execution_count": 27,
   "metadata": {},
   "outputs": [
    {
     "data": {
      "text/plain": [
       "{'postcode': 'EN8 8AZ',\n",
       " 'num_invalid_builds': nan,\n",
       " 'res_total_buildings': nan,\n",
       " 'res_build_vol_FGA_total': nan,\n",
       " 'res_base_floor_total': nan,\n",
       " 'res_build_vol_inc_basement_FGA_total': nan,\n",
       " 'res_heated_vol_EA_FGA_total': nan,\n",
       " 'res_heated_vol_FGA_total': nan,\n",
       " 'res_heated_vol_inc_basement_EA_FGA_total': nan,\n",
       " 'res_heated_vol_inc_basement_FGA_total': nan,\n",
       " 'res_listed_bool_total': nan,\n",
       " 'mixed_total_buildings': nan,\n",
       " 'mixed_build_vol_FGA_total': nan,\n",
       " 'mixed_base_floor_total': nan,\n",
       " 'mixed_build_vol_inc_basement_FGA_total': nan,\n",
       " 'mixed_heated_vol_EA_FGA_total': nan,\n",
       " 'mixed_heated_vol_FGA_total': nan,\n",
       " 'mixed_heated_vol_inc_basement_EA_FGA_total': nan,\n",
       " 'mixed_heated_vol_inc_basement_FGA_total': nan,\n",
       " 'mixed_listed_bool_total': nan,\n",
       " 'comm_total_buildings': nan,\n",
       " 'comm_build_vol_FGA_total': nan,\n",
       " 'comm_base_floor_total': nan,\n",
       " 'comm_build_vol_inc_basement_FGA_total': nan,\n",
       " 'comm_heated_vol_EA_FGA_total': nan,\n",
       " 'comm_heated_vol_FGA_total': nan,\n",
       " 'comm_heated_vol_inc_basement_EA_FGA_total': nan,\n",
       " 'comm_heated_vol_inc_basement_FGA_total': nan,\n",
       " 'comm_listed_bool_total': nan}"
      ]
     },
     "execution_count": 27,
     "metadata": {},
     "output_type": "execute_result"
    }
   ],
   "source": [
    "generate_null_attributes_full(pc)"
   ]
  },
  {
   "cell_type": "code",
   "execution_count": 36,
   "metadata": {},
   "outputs": [],
   "source": [
    "\n",
    "\n",
    "def generate_null_attributes_full(pc):\n",
    "    \"\"\"\n",
    "    Generate a dictionary with all column names prefixed as specified, \n",
    "    with np.nan values, for the case where there's no data.\n",
    "    \n",
    "    Parameters:\n",
    "    - prefix: The prefix to be applied to each column name ('all_types_', 'res_', 'mixed_', or 'comm_').\n",
    "    - cols: The list of column names that are expected in the non-null case.\n",
    "\n",
    "    Returns:\n",
    "    - A dictionary with keys as the prefixed column names and np.nan as all values.\n",
    "    \"\"\"\n",
    "    cols = ['build_vol_FGA', 'base_floor', 'build_vol_inc_basement_FGA', 'heated_vol_EA_FGA', \n",
    "        'heated_vol_FGA', 'heated_vol_inc_basement_EA_FGA', 'heated_vol_inc_basement_FGA', 'listed_bool']\n",
    "    \n",
    "    prefix = ['all_types_', 'res_', 'mixed_', 'comm_']\n",
    "    null_attributes={'postcode':pc, 'num_invalid_builds': np.nan }\n",
    "\n",
    "    for p in prefix:\n",
    "        # Initialize the dictionary with the total_buildings count set to np.nan\n",
    "        null_attributes[f'{p}total_buildings']=  np.nan \n",
    "        # Add entries for each column in cols, prefixed and set to np.nan\n",
    "        for col in cols:\n",
    "            null_attributes[f'{p}{col}_total'] = np.nan\n",
    "        \n",
    "    return null_attributes"
   ]
  },
  {
   "cell_type": "code",
   "execution_count": 37,
   "metadata": {},
   "outputs": [
    {
     "data": {
      "text/plain": [
       "38"
      ]
     },
     "execution_count": 37,
     "metadata": {},
     "output_type": "execute_result"
    }
   ],
   "source": [
    "len(generate_null_attributes_full(pc) )"
   ]
  },
  {
   "cell_type": "code",
   "execution_count": 41,
   "metadata": {},
   "outputs": [],
   "source": [
    "tes_res = generate_null_attributes_full(pc) "
   ]
  },
  {
   "cell_type": "code",
   "execution_count": null,
   "metadata": {},
   "outputs": [],
   "source": []
  },
  {
   "cell_type": "code",
   "execution_count": 32,
   "metadata": {},
   "outputs": [
    {
     "name": "stdout",
     "output_type": "stream",
     "text": [
      "len df  10\n"
     ]
    }
   ],
   "source": [
    "uprn_match = find_data_pc(pc, onsud_data, input_gpk=INPUT_GPK)\n",
    "\n",
    "df , num_invalid = pre_process_building_data(uprn_match)"
   ]
  },
  {
   "cell_type": "code",
   "execution_count": 35,
   "metadata": {},
   "outputs": [
    {
     "data": {
      "text/plain": [
       "36"
      ]
     },
     "execution_count": 35,
     "metadata": {},
     "output_type": "execute_result"
    }
   ],
   "source": [
    "res = calculate_postcode_attr_with_null_case(df)\n",
    "\n",
    "len(res)"
   ]
  },
  {
   "cell_type": "code",
   "execution_count": 38,
   "metadata": {},
   "outputs": [
    {
     "data": {
      "text/plain": [
       "{'all_types_total_buildings': 10,\n",
       " 'all_types_build_vol_FGA_total': 5526.530130500792,\n",
       " 'all_types_base_floor_total': 0,\n",
       " 'all_types_build_vol_inc_basement_FGA_total': 5526.530130500792,\n",
       " 'all_types_heated_vol_EA_FGA_total': 3308.045207267276,\n",
       " 'all_types_heated_vol_FGA_total': 3308.045207267276,\n",
       " 'all_types_heated_vol_inc_basement_EA_FGA_total': 3308.045207267276,\n",
       " 'all_types_heated_vol_inc_basement_FGA_total': 3308.045207267276,\n",
       " 'all_types_listed_bool_total': 0,\n",
       " 'res_total_buildings': 9,\n",
       " 'res_build_vol_FGA_total': 4939.580104465484,\n",
       " 'res_base_floor_total': 0,\n",
       " 'res_build_vol_inc_basement_FGA_total': 4939.580104465484,\n",
       " 'res_heated_vol_EA_FGA_total': 2864.1900772094727,\n",
       " 'res_heated_vol_FGA_total': 2864.1900772094727,\n",
       " 'res_heated_vol_inc_basement_EA_FGA_total': 2864.1900772094727,\n",
       " 'res_heated_vol_inc_basement_FGA_total': 2864.1900772094727,\n",
       " 'res_listed_bool_total': 0,\n",
       " 'mixed_total_buildings': nan,\n",
       " 'mixed_build_vol_FGA_total': nan,\n",
       " 'mixed_base_floor_total': nan,\n",
       " 'mixed_build_vol_inc_basement_FGA_total': nan,\n",
       " 'mixed_heated_vol_EA_FGA_total': nan,\n",
       " 'mixed_heated_vol_FGA_total': nan,\n",
       " 'mixed_heated_vol_inc_basement_EA_FGA_total': nan,\n",
       " 'mixed_heated_vol_inc_basement_FGA_total': nan,\n",
       " 'mixed_listed_bool_total': nan,\n",
       " 'comm_total_buildings': nan,\n",
       " 'comm_build_vol_FGA_total': nan,\n",
       " 'comm_base_floor_total': nan,\n",
       " 'comm_build_vol_inc_basement_FGA_total': nan,\n",
       " 'comm_heated_vol_EA_FGA_total': nan,\n",
       " 'comm_heated_vol_FGA_total': nan,\n",
       " 'comm_heated_vol_inc_basement_EA_FGA_total': nan,\n",
       " 'comm_heated_vol_inc_basement_FGA_total': nan,\n",
       " 'comm_listed_bool_total': nan}"
      ]
     },
     "execution_count": 38,
     "metadata": {},
     "output_type": "execute_result"
    }
   ],
   "source": [
    "res"
   ]
  },
  {
   "cell_type": "code",
   "execution_count": 46,
   "metadata": {},
   "outputs": [
    {
     "data": {
      "text/plain": [
       "['postcode', 'num_invalid_builds']"
      ]
     },
     "execution_count": 46,
     "metadata": {},
     "output_type": "execute_result"
    }
   ],
   "source": [
    "[k for k, v in tes_res.items() if k not in res.keys()  ]"
   ]
  },
  {
   "cell_type": "code",
   "execution_count": 48,
   "metadata": {},
   "outputs": [],
   "source": [
    "pc='EN7 5TA'\n",
    "\n",
    "# pc_result = process_postcode_f\n",
    "# uel(pc, onsud_data, gas_df, elec_df, INPUT_GPK)\n",
    "\n",
    "uprn_match = find_data_pc(pc, onsud_data, input_gpk=INPUT_GPK)\n",
    "    "
   ]
  },
  {
   "cell_type": "code",
   "execution_count": 51,
   "metadata": {},
   "outputs": [],
   "source": [
    "uprn_match\n",
    "from src.pre_process_buildings import pre_process_buildings \n",
    "processed_df = pre_process_buildings(uprn_match)\n",
    "# df , num_invalid = pre_process_building_data(uprn_match)"
   ]
  },
  {
   "cell_type": "code",
   "execution_count": 52,
   "metadata": {},
   "outputs": [
    {
     "data": {
      "text/html": [
       "<div>\n",
       "<style scoped>\n",
       "    .dataframe tbody tr th:only-of-type {\n",
       "        vertical-align: middle;\n",
       "    }\n",
       "\n",
       "    .dataframe tbody tr th {\n",
       "        vertical-align: top;\n",
       "    }\n",
       "\n",
       "    .dataframe thead th {\n",
       "        text-align: right;\n",
       "    }\n",
       "</style>\n",
       "<table border=\"1\" class=\"dataframe\">\n",
       "  <thead>\n",
       "    <tr style=\"text-align: right;\">\n",
       "      <th></th>\n",
       "      <th>premise_age</th>\n",
       "      <th>premise_year</th>\n",
       "      <th>premise_use</th>\n",
       "      <th>premise_type</th>\n",
       "      <th>premise_floor_count</th>\n",
       "      <th>height</th>\n",
       "      <th>premise_area</th>\n",
       "      <th>building_area</th>\n",
       "      <th>address_area</th>\n",
       "      <th>gross_area</th>\n",
       "      <th>...</th>\n",
       "      <th>upn</th>\n",
       "      <th>geometry</th>\n",
       "      <th>height_numeric</th>\n",
       "      <th>floor_count_numeric</th>\n",
       "      <th>height_bucket</th>\n",
       "      <th>floor_count_numeric_FGA</th>\n",
       "      <th>floor_count_element_av</th>\n",
       "      <th>floor_count_element_av_FGA</th>\n",
       "      <th>height_numeric_FGA</th>\n",
       "      <th>listed_bool</th>\n",
       "    </tr>\n",
       "  </thead>\n",
       "  <tbody>\n",
       "    <tr>\n",
       "      <th>0</th>\n",
       "      <td>1870-1918</td>\n",
       "      <td>NaN</td>\n",
       "      <td>Agricultural</td>\n",
       "      <td>None</td>\n",
       "      <td>None</td>\n",
       "      <td>111.400002</td>\n",
       "      <td>167.399994</td>\n",
       "      <td>167.399994</td>\n",
       "      <td>NaN</td>\n",
       "      <td>NaN</td>\n",
       "      <td>...</td>\n",
       "      <td>440369</td>\n",
       "      <td>MULTIPOLYGON (((531484.380 204884.880, 531465....</td>\n",
       "      <td>111.400002</td>\n",
       "      <td>NaN</td>\n",
       "      <td>100-200m</td>\n",
       "      <td>NaN</td>\n",
       "      <td>NaN</td>\n",
       "      <td>NaN</td>\n",
       "      <td>111.400002</td>\n",
       "      <td>0</td>\n",
       "    </tr>\n",
       "    <tr>\n",
       "      <th>1</th>\n",
       "      <td>1945-1959</td>\n",
       "      <td>NaN</td>\n",
       "      <td>Residential</td>\n",
       "      <td>Large detached</td>\n",
       "      <td>2</td>\n",
       "      <td>4.000000</td>\n",
       "      <td>183.699997</td>\n",
       "      <td>183.699997</td>\n",
       "      <td>367.399994</td>\n",
       "      <td>367.399994</td>\n",
       "      <td>...</td>\n",
       "      <td>38</td>\n",
       "      <td>MULTIPOLYGON (((531539.520 205062.470, 531538....</td>\n",
       "      <td>4.000000</td>\n",
       "      <td>2.0</td>\n",
       "      <td>4-5m</td>\n",
       "      <td>2.000000</td>\n",
       "      <td>2.0</td>\n",
       "      <td>2.000000</td>\n",
       "      <td>4.000000</td>\n",
       "      <td>0</td>\n",
       "    </tr>\n",
       "    <tr>\n",
       "      <th>2</th>\n",
       "      <td>Unknown date</td>\n",
       "      <td>NaN</td>\n",
       "      <td>Agricultural</td>\n",
       "      <td>None</td>\n",
       "      <td>None</td>\n",
       "      <td>16.100000</td>\n",
       "      <td>56.799999</td>\n",
       "      <td>56.799999</td>\n",
       "      <td>NaN</td>\n",
       "      <td>NaN</td>\n",
       "      <td>...</td>\n",
       "      <td>3194489</td>\n",
       "      <td>MULTIPOLYGON (((531650.400 205173.940, 531654....</td>\n",
       "      <td>16.100000</td>\n",
       "      <td>NaN</td>\n",
       "      <td>14-18m</td>\n",
       "      <td>2.721991</td>\n",
       "      <td>NaN</td>\n",
       "      <td>2.721991</td>\n",
       "      <td>16.100000</td>\n",
       "      <td>0</td>\n",
       "    </tr>\n",
       "    <tr>\n",
       "      <th>3</th>\n",
       "      <td>1945-1959</td>\n",
       "      <td>NaN</td>\n",
       "      <td>Residential</td>\n",
       "      <td>Standard size detached</td>\n",
       "      <td>2</td>\n",
       "      <td>8.700000</td>\n",
       "      <td>144.899994</td>\n",
       "      <td>144.899994</td>\n",
       "      <td>289.799988</td>\n",
       "      <td>289.799988</td>\n",
       "      <td>...</td>\n",
       "      <td>30216434</td>\n",
       "      <td>MULTIPOLYGON (((531683.180 205203.730, 531677....</td>\n",
       "      <td>8.700000</td>\n",
       "      <td>2.0</td>\n",
       "      <td>8-9m</td>\n",
       "      <td>2.000000</td>\n",
       "      <td>2.0</td>\n",
       "      <td>2.000000</td>\n",
       "      <td>8.700000</td>\n",
       "      <td>0</td>\n",
       "    </tr>\n",
       "  </tbody>\n",
       "</table>\n",
       "<p>4 rows × 50 columns</p>\n",
       "</div>"
      ],
      "text/plain": [
       "    premise_age  premise_year   premise_use            premise_type  \\\n",
       "0     1870-1918           NaN  Agricultural                    None   \n",
       "1     1945-1959           NaN   Residential          Large detached   \n",
       "2  Unknown date           NaN  Agricultural                    None   \n",
       "3     1945-1959           NaN   Residential  Standard size detached   \n",
       "\n",
       "  premise_floor_count      height  premise_area  building_area  address_area  \\\n",
       "0                None  111.400002    167.399994     167.399994           NaN   \n",
       "1                   2    4.000000    183.699997     183.699997    367.399994   \n",
       "2                None   16.100000     56.799999      56.799999           NaN   \n",
       "3                   2    8.700000    144.899994     144.899994    289.799988   \n",
       "\n",
       "   gross_area  ...       upn  \\\n",
       "0         NaN  ...    440369   \n",
       "1  367.399994  ...        38   \n",
       "2         NaN  ...   3194489   \n",
       "3  289.799988  ...  30216434   \n",
       "\n",
       "                                            geometry  height_numeric  \\\n",
       "0  MULTIPOLYGON (((531484.380 204884.880, 531465....      111.400002   \n",
       "1  MULTIPOLYGON (((531539.520 205062.470, 531538....        4.000000   \n",
       "2  MULTIPOLYGON (((531650.400 205173.940, 531654....       16.100000   \n",
       "3  MULTIPOLYGON (((531683.180 205203.730, 531677....        8.700000   \n",
       "\n",
       "   floor_count_numeric  height_bucket  floor_count_numeric_FGA  \\\n",
       "0                  NaN       100-200m                      NaN   \n",
       "1                  2.0           4-5m                 2.000000   \n",
       "2                  NaN         14-18m                 2.721991   \n",
       "3                  2.0           8-9m                 2.000000   \n",
       "\n",
       "  floor_count_element_av floor_count_element_av_FGA height_numeric_FGA  \\\n",
       "0                    NaN                        NaN         111.400002   \n",
       "1                    2.0                   2.000000           4.000000   \n",
       "2                    NaN                   2.721991          16.100000   \n",
       "3                    2.0                   2.000000           8.700000   \n",
       "\n",
       "  listed_bool  \n",
       "0           0  \n",
       "1           0  \n",
       "2           0  \n",
       "3           0  \n",
       "\n",
       "[4 rows x 50 columns]"
      ]
     },
     "execution_count": 52,
     "metadata": {},
     "output_type": "execute_result"
    }
   ],
   "source": [
    "processed_df[['floor_count_numeric_FGA']]"
   ]
  },
  {
   "cell_type": "code",
   "execution_count": null,
   "metadata": {},
   "outputs": [],
   "source": []
  }
 ],
 "metadata": {
  "kernelspec": {
   "display_name": "ads4",
   "language": "python",
   "name": "python3"
  },
  "language_info": {
   "codemirror_mode": {
    "name": "ipython",
    "version": 3
   },
   "file_extension": ".py",
   "mimetype": "text/x-python",
   "name": "python",
   "nbconvert_exporter": "python",
   "pygments_lexer": "ipython3",
   "version": "3.11.0"
  }
 },
 "nbformat": 4,
 "nbformat_minor": 2
}
